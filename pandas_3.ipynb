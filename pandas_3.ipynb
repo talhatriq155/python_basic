{
  "cells": [
    {
      "cell_type": "markdown",
      "metadata": {
        "id": "view-in-github",
        "colab_type": "text"
      },
      "source": [
        "<a href=\"https://colab.research.google.com/github/talhatriq155/python_basic/blob/master/pandas_3.ipynb\" target=\"_parent\"><img src=\"https://colab.research.google.com/assets/colab-badge.svg\" alt=\"Open In Colab\"/></a>"
      ]
    },
    {
      "cell_type": "code",
      "source": [
        "import pandas as pd\n",
        "ml_csv=pd.read_csv('ml.csv')\n",
        "print(ml_csv)"
      ],
      "metadata": {
        "colab": {
          "base_uri": "https://localhost:8080/"
        },
        "id": "gTyA9D7cD9cW",
        "outputId": "c53c1f9d-36b4-4ac8-a228-ea262aab225b"
      },
      "execution_count": 2,
      "outputs": [
        {
          "output_type": "stream",
          "name": "stdout",
          "text": [
            "         brand  colour    sims  memory(kb)  prices(dollar)\n",
            "0      Samsung   Black    Dual      128000             250\n",
            "1        Apple   White  Single      256000             800\n",
            "2       Google    Blue    Dual       64000             300\n",
            "3       Xiaomi     Red    Dual       32000             150\n",
            "4      OnePlus   Green  Single      128000             400\n",
            "5     Motorola    Gray    Dual       64000             200\n",
            "6        Nokia  Yellow  Single       16000             100\n",
            "7         Sony  Purple    Dual      256000             550\n",
            "8           LG  Silver  Single       32000             180\n",
            "9       Huawei    Gold    Dual      128000             350\n",
            "10        Oppo    Pink    Dual       64000             220\n",
            "11        Vivo   Brown  Single      256000             480\n",
            "12      Realme  Orange    Dual       32000             170\n",
            "13        Asus    Teal  Single      128000             380\n",
            "14  BlackBerry    Navy    Dual       16000              90\n"
          ]
        }
      ]
    },
    {
      "cell_type": "code",
      "execution_count": 40,
      "metadata": {
        "colab": {
          "base_uri": "https://localhost:8080/",
          "height": 554
        },
        "id": "WiCXLb427so2",
        "outputId": "3fe96443-2747-42cb-ce45-45049f0965e5"
      },
      "outputs": [
        {
          "output_type": "execute_result",
          "data": {
            "text/plain": [
              "0     250\n",
              "1     800\n",
              "2     300\n",
              "3     150\n",
              "4     400\n",
              "5     200\n",
              "6     100\n",
              "7     550\n",
              "8     180\n",
              "9     350\n",
              "10    220\n",
              "11    480\n",
              "12    170\n",
              "13    380\n",
              "14     90\n",
              "Name: prices(dollar), dtype: int64"
            ],
            "text/html": [
              "<div>\n",
              "<style scoped>\n",
              "    .dataframe tbody tr th:only-of-type {\n",
              "        vertical-align: middle;\n",
              "    }\n",
              "\n",
              "    .dataframe tbody tr th {\n",
              "        vertical-align: top;\n",
              "    }\n",
              "\n",
              "    .dataframe thead th {\n",
              "        text-align: right;\n",
              "    }\n",
              "</style>\n",
              "<table border=\"1\" class=\"dataframe\">\n",
              "  <thead>\n",
              "    <tr style=\"text-align: right;\">\n",
              "      <th></th>\n",
              "      <th>prices(dollar)</th>\n",
              "    </tr>\n",
              "  </thead>\n",
              "  <tbody>\n",
              "    <tr>\n",
              "      <th>0</th>\n",
              "      <td>250</td>\n",
              "    </tr>\n",
              "    <tr>\n",
              "      <th>1</th>\n",
              "      <td>800</td>\n",
              "    </tr>\n",
              "    <tr>\n",
              "      <th>2</th>\n",
              "      <td>300</td>\n",
              "    </tr>\n",
              "    <tr>\n",
              "      <th>3</th>\n",
              "      <td>150</td>\n",
              "    </tr>\n",
              "    <tr>\n",
              "      <th>4</th>\n",
              "      <td>400</td>\n",
              "    </tr>\n",
              "    <tr>\n",
              "      <th>5</th>\n",
              "      <td>200</td>\n",
              "    </tr>\n",
              "    <tr>\n",
              "      <th>6</th>\n",
              "      <td>100</td>\n",
              "    </tr>\n",
              "    <tr>\n",
              "      <th>7</th>\n",
              "      <td>550</td>\n",
              "    </tr>\n",
              "    <tr>\n",
              "      <th>8</th>\n",
              "      <td>180</td>\n",
              "    </tr>\n",
              "    <tr>\n",
              "      <th>9</th>\n",
              "      <td>350</td>\n",
              "    </tr>\n",
              "    <tr>\n",
              "      <th>10</th>\n",
              "      <td>220</td>\n",
              "    </tr>\n",
              "    <tr>\n",
              "      <th>11</th>\n",
              "      <td>480</td>\n",
              "    </tr>\n",
              "    <tr>\n",
              "      <th>12</th>\n",
              "      <td>170</td>\n",
              "    </tr>\n",
              "    <tr>\n",
              "      <th>13</th>\n",
              "      <td>380</td>\n",
              "    </tr>\n",
              "    <tr>\n",
              "      <th>14</th>\n",
              "      <td>90</td>\n",
              "    </tr>\n",
              "  </tbody>\n",
              "</table>\n",
              "</div><br><label><b>dtype:</b> int64</label>"
            ]
          },
          "metadata": {},
          "execution_count": 40
        }
      ],
      "source": [
        "# comparing two coloum\n",
        "# pd.crosstab(ml_csv['memory(kb)'],ml_csv['sims'])\n",
        "# compare more then two coloum\n",
        "# ml_csv.groupby(['brand']).mean()\n",
        "# to see plot of data\n",
        "# ml_csv['prices(dollar)'].plot()\n",
        "# to see histogram\n",
        "# ml_csv['prices(dollar)'].hist()\n",
        "# ml_csv['prices(dollar)'].replace('[250]','[300]')\n"
      ]
    }
  ],
  "metadata": {
    "colab": {
      "provenance": [],
      "authorship_tag": "ABX9TyPNje5SbRW4KY9+4hwlcSub",
      "include_colab_link": true
    },
    "kernelspec": {
      "display_name": "Python 3",
      "name": "python3"
    },
    "language_info": {
      "name": "python"
    }
  },
  "nbformat": 4,
  "nbformat_minor": 0
}