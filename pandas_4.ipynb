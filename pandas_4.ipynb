{
  "cells": [
    {
      "cell_type": "markdown",
      "metadata": {
        "id": "view-in-github",
        "colab_type": "text"
      },
      "source": [
        "<a href=\"https://colab.research.google.com/github/talhatriq155/python_basic/blob/master/pandas_4.ipynb\" target=\"_parent\"><img src=\"https://colab.research.google.com/assets/colab-badge.svg\" alt=\"Open In Colab\"/></a>"
      ]
    },
    {
      "cell_type": "code",
      "source": [
        "import pandas as pd\n",
        "ml_csv=pd.read_csv('ml.csv')\n",
        "print(ml_csv)"
      ],
      "metadata": {
        "colab": {
          "base_uri": "https://localhost:8080/"
        },
        "id": "gTyA9D7cD9cW",
        "outputId": "cbea326a-7aa9-4bb1-a5a0-9fc22e1aabbe"
      },
      "execution_count": 57,
      "outputs": [
        {
          "output_type": "stream",
          "name": "stdout",
          "text": [
            "         brand  colour    sims  memory(kb)  prices\n",
            "0      Samsung   Black    Dual         NaN   250.0\n",
            "1        Apple   White  Single    256000.0   800.0\n",
            "2       Google    Blue    Dual     64000.0   300.0\n",
            "3       Xiaomi     Red    Dual     32000.0   150.0\n",
            "4      OnePlus   Green  Single    128000.0     NaN\n",
            "5     Motorola    Gray    Dual     64000.0   200.0\n",
            "6        Nokia  Yellow  Single     16000.0   100.0\n",
            "7         Sony  Purple    Dual    256000.0   550.0\n",
            "8           LG  Silver  Single     32000.0   180.0\n",
            "9       Huawei    Gold    Dual    128000.0   350.0\n",
            "10        Oppo    Pink    Dual     64000.0   220.0\n",
            "11        Vivo   Brown  Single    256000.0   480.0\n",
            "12      Realme  Orange    Dual     32000.0     NaN\n",
            "13        Asus    Teal  Single    128000.0   380.0\n",
            "14  BlackBerry    Navy    Dual     16000.0    90.0\n"
          ]
        }
      ]
    },
    {
      "cell_type": "code",
      "execution_count": 63,
      "metadata": {
        "colab": {
          "base_uri": "https://localhost:8080/"
        },
        "id": "WiCXLb427so2",
        "outputId": "956e426a-31d3-4b70-fdfe-edc39fab12ba"
      },
      "outputs": [
        {
          "output_type": "stream",
          "name": "stdout",
          "text": [
            "         brand  colour    sims  memory(kb)  prices\n",
            "0      Samsung   Black    Dual         NaN   250.0\n",
            "1        Apple   White  Single    256000.0   800.0\n",
            "2       Google    Blue    Dual     64000.0   300.0\n",
            "3       Xiaomi     Red    Dual     32000.0   150.0\n",
            "4      OnePlus   Green  Single    128000.0     NaN\n",
            "5     Motorola    Gray    Dual     64000.0   200.0\n",
            "6        Nokia  Yellow  Single     16000.0   100.0\n",
            "7         Sony  Purple    Dual    256000.0   550.0\n",
            "8           LG  Silver  Single     32000.0   180.0\n",
            "9       Huawei    Gold    Dual    128000.0   350.0\n",
            "10        Oppo    Pink    Dual     64000.0   220.0\n",
            "11        Vivo   Brown  Single    256000.0   480.0\n",
            "12      Realme  Orange    Dual     32000.0     NaN\n",
            "13        Asus    Teal  Single    128000.0   380.0\n",
            "14  BlackBerry    Navy    Dual     16000.0    90.0\n"
          ]
        }
      ],
      "source": [
        "# ml_csv['colour'].str.lower()\n",
        "# fill blank coloum\n",
        "# ml_csv['prices'].fillna('nill')\n",
        "# drop blank coloum\n",
        "ml_csv['memory(kb)'].dropna(inplace=True)\n",
        "print(ml_csv)\n"
      ]
    }
  ],
  "metadata": {
    "colab": {
      "provenance": [],
      "authorship_tag": "ABX9TyNsWevEQ9ulEqkCa5Lc42lG",
      "include_colab_link": true
    },
    "kernelspec": {
      "display_name": "Python 3",
      "name": "python3"
    },
    "language_info": {
      "name": "python"
    }
  },
  "nbformat": 4,
  "nbformat_minor": 0
}