{
  "nbformat": 4,
  "nbformat_minor": 0,
  "metadata": {
    "colab": {
      "provenance": [],
      "authorship_tag": "ABX9TyPbsuEn7R13DruZOUBaon3H",
      "include_colab_link": true
    },
    "kernelspec": {
      "name": "python3",
      "display_name": "Python 3"
    },
    "language_info": {
      "name": "python"
    }
  },
  "cells": [
    {
      "cell_type": "markdown",
      "metadata": {
        "id": "view-in-github",
        "colab_type": "text"
      },
      "source": [
        "<a href=\"https://colab.research.google.com/github/talhatriq155/python_basic/blob/master/pandas_1.ipynb\" target=\"_parent\"><img src=\"https://colab.research.google.com/assets/colab-badge.svg\" alt=\"Open In Colab\"/></a>"
      ]
    },
    {
      "cell_type": "code",
      "execution_count": 8,
      "metadata": {
        "colab": {
          "base_uri": "https://localhost:8080/"
        },
        "id": "JEV_12eueqQ6",
        "outputId": "2fb779eb-085e-428f-8c8e-5fa034a72b82"
      },
      "outputs": [
        {
          "output_type": "stream",
          "name": "stdout",
          "text": [
            "   Series_reference   Period  Data_value STATUS   UNITS\n",
            "0       BDCQ.SEA1AA  2011.06       80078      F  Number\n",
            "1       BDCQ.SEA1AA  2011.09       78324      F  Number\n",
            "2       BDCQ.SEA1AA  2011.12       85850      F  Number\n",
            "3       BDCQ.SEA1AA  2012.03       90743      F  Number\n",
            "4       BDCQ.SEA1AA  2012.06       81780      F  Number\n",
            "5       BDCQ.SEA1AA  2012.09       79261      F  Number\n",
            "6       BDCQ.SEA1AA  2012.12       87793      F  Number\n",
            "7       BDCQ.SEA1AA  2013.03       91571      F  Number\n",
            "8       BDCQ.SEA1AA  2013.06       81687      F  Number\n",
            "9       BDCQ.SEA1AA  2013.09       81471      F  Number\n",
            "10      BDCQ.SEA1AA  2013.12       93950      F  Number\n",
            "11      BDCQ.SEA1AA  2014.03       97208      F  Number\n",
            "12      BDCQ.SEA1AA  2014.06       85879      F  Number\n",
            "13      BDCQ.SEA1AA  2014.09       84447      F  Number\n",
            "14      BDCQ.SEA1AA  2014.12       95075      F  Number\n",
            "15      BDCQ.SEA1AA  2015.03       98202      F  Number\n",
            "16      BDCQ.SEA1AA  2015.06       87987      F  Number\n",
            "17      BDCQ.SEA1AA  2015.09       84529      F  Number\n",
            "18      BDCQ.SEA1AA  2015.12       96848      F  Number\n",
            "19      BDCQ.SEA1AA  2016.03       99291      F  Number\n",
            "20      BDCQ.SEA1AA  2016.06       88716      F  Number\n",
            "21      BDCQ.SEA1AA  2016.09       85933      F  Number\n",
            "22      BDCQ.SEA1AA  2016.12       96540      F  Number\n",
            "23      BDCQ.SEA1AA  2017.03       98994      F  Number\n",
            "24      BDCQ.SEA1AA  2017.06       90510      F  Number\n",
            "25      BDCQ.SEA1AA  2017.09       87089      F  Number\n",
            "26      BDCQ.SEA1AA  2017.12       98933      F  Number\n",
            "27      BDCQ.SEA1AA  2018.03      101168      F  Number\n",
            "28      BDCQ.SEA1AA  2018.06       90766      F  Number\n"
          ]
        }
      ],
      "source": [
        "import pandas as pd\n",
        "mobiles=pd.Series(['nokia','samsung','oppo','infinix'])\n",
        "print(mobiles)\n",
        "\n",
        "laptops=pd.Series(['dell','hp','lenovo','nvidia'])\n",
        "print(laptops)\n",
        "\n",
        "data_frame=pd.DataFrame({'mob': mobiles, 'lap':laptops})\n",
        "print(data_frame)\n",
        "import pandas as pd\n",
        "\n",
        "\n",
        "up=pd.read_csv('ml.csv')\n",
        "print(up)"
      ]
    },
    {
      "cell_type": "code",
      "source": [
        "up.to_csv('nl.csv',index=False)\n",
        "up=pd.read_csv('ml.csv')\n",
        "print(up)"
      ],
      "metadata": {
        "colab": {
          "base_uri": "https://localhost:8080/"
        },
        "id": "50_rKh8m6i8e",
        "outputId": "df3de47c-538f-4579-b733-5751d29d6e3c"
      },
      "execution_count": 12,
      "outputs": [
        {
          "output_type": "stream",
          "name": "stdout",
          "text": [
            "   Series_reference   Period  Data_value STATUS   UNITS\n",
            "0       BDCQ.SEA1AA  2011.06       80078      F  Number\n",
            "1       BDCQ.SEA1AA  2011.09       78324      F  Number\n",
            "2       BDCQ.SEA1AA  2011.12       85850      F  Number\n",
            "3       BDCQ.SEA1AA  2012.03       90743      F  Number\n",
            "4       BDCQ.SEA1AA  2012.06       81780      F  Number\n",
            "5       BDCQ.SEA1AA  2012.09       79261      F  Number\n",
            "6       BDCQ.SEA1AA  2012.12       87793      F  Number\n",
            "7       BDCQ.SEA1AA  2013.03       91571      F  Number\n",
            "8       BDCQ.SEA1AA  2013.06       81687      F  Number\n",
            "9       BDCQ.SEA1AA  2013.09       81471      F  Number\n",
            "10      BDCQ.SEA1AA  2013.12       93950      F  Number\n",
            "11      BDCQ.SEA1AA  2014.03       97208      F  Number\n",
            "12      BDCQ.SEA1AA  2014.06       85879      F  Number\n",
            "13      BDCQ.SEA1AA  2014.09       84447      F  Number\n",
            "14      BDCQ.SEA1AA  2014.12       95075      F  Number\n",
            "15      BDCQ.SEA1AA  2015.03       98202      F  Number\n",
            "16      BDCQ.SEA1AA  2015.06       87987      F  Number\n",
            "17      BDCQ.SEA1AA  2015.09       84529      F  Number\n",
            "18      BDCQ.SEA1AA  2015.12       96848      F  Number\n",
            "19      BDCQ.SEA1AA  2016.03       99291      F  Number\n",
            "20      BDCQ.SEA1AA  2016.06       88716      F  Number\n",
            "21      BDCQ.SEA1AA  2016.09       85933      F  Number\n",
            "22      BDCQ.SEA1AA  2016.12       96540      F  Number\n",
            "23      BDCQ.SEA1AA  2017.03       98994      F  Number\n",
            "24      BDCQ.SEA1AA  2017.06       90510      F  Number\n",
            "25      BDCQ.SEA1AA  2017.09       87089      F  Number\n",
            "26      BDCQ.SEA1AA  2017.12       98933      F  Number\n",
            "27      BDCQ.SEA1AA  2018.03      101168      F  Number\n",
            "28      BDCQ.SEA1AA  2018.06       90766      F  Number\n"
          ]
        }
      ]
    }
  ]
}